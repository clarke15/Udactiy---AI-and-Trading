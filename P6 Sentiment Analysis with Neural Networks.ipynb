{
 "cells": [
  {
   "cell_type": "markdown",
   "metadata": {},
   "source": [
    "# Project 6: Analyzing Stock Sentiment from Twits\n",
    "## Instructions\n",
    "Each problem consists of a function to implement and instructions on how to implement the function.  The parts of the function that need to be implemented are marked with a `# TODO` comment.\n",
    "\n",
    "## Packages\n",
    "When you implement the functions, you'll only need to you use the packages you've used in the classroom, like [Pandas](https://pandas.pydata.org/) and [Numpy](http://www.numpy.org/). These packages will be imported for you. We recommend you don't add any import statements, otherwise the grader might not be able to run your code.\n",
    "\n",
    "### Load Packages"
   ]
  },
  {
   "cell_type": "code",
   "execution_count": 1,
   "metadata": {},
   "outputs": [],
   "source": [
    "import json\n",
    "import nltk\n",
    "import os\n",
    "import random\n",
    "import re\n",
    "import torch\n",
    "\n",
    "from torch import nn, optim\n",
    "import torch.nn.functional as F"
   ]
  },
  {
   "cell_type": "markdown",
   "metadata": {},
   "source": [
    "## Introduction\n",
    "When deciding the value of a company, it's important to follow the news. For example, a product recall or natural disaster in a company's product chain. You want to be able to turn this information into a signal. Currently, the best tool for the job is a Neural Network. \n",
    "\n",
    "For this project, you'll use posts from the social media site [StockTwits](https://en.wikipedia.org/wiki/StockTwits). The community on StockTwits is full of investors, traders, and entrepreneurs. Each message posted is called a Twit. This is similar to Twitter's version of a post, called a Tweet. You'll build a model around these twits that generate a sentiment score.\n",
    "\n",
    "We've collected a bunch of twits, then hand labeled the sentiment of each. To capture the degree of sentiment, we'll use a five-point scale: very negative, negative, neutral, positive, very positive. Each twit is labeled -2 to 2 in steps of 1, from very negative to very positive respectively. You'll build a sentiment analysis model that will learn to assign sentiment to twits on its own, using this labeled data.\n",
    "\n",
    "The first thing we should to do, is load the data.\n",
    "\n",
    "## Import Twits \n",
    "### Load Twits Data \n",
    "This JSON file contains a list of objects for each twit in the `'data'` field:\n",
    "\n",
    "```\n",
    "{'data':\n",
    "  {'message_body': 'Neutral twit body text here',\n",
    "   'sentiment': 0},\n",
    "  {'message_body': 'Happy twit body text here',\n",
    "   'sentiment': 1},\n",
    "   ...\n",
    "}\n",
    "```\n",
    "\n",
    "The fields represent the following:\n",
    "\n",
    "* `'message_body'`: The text of the twit.\n",
    "* `'sentiment'`: Sentiment score for the twit, ranges from -2 to 2 in steps of 1, with 0 being neutral.\n",
    "\n",
    "\n",
    "To see what the data look like by printing the first 10 twits from the list. "
   ]
  },
  {
   "cell_type": "code",
   "execution_count": 2,
   "metadata": {},
   "outputs": [
    {
     "name": "stdout",
     "output_type": "stream",
     "text": [
      "[{'message_body': '$FITB great buy at 26.00...ill wait', 'sentiment': 2, 'timestamp': '2018-07-01T00:00:09Z'}, {'message_body': '@StockTwits $MSFT', 'sentiment': 1, 'timestamp': '2018-07-01T00:00:42Z'}, {'message_body': '#STAAnalystAlert for $TDG : Jefferies Maintains with a rating of Hold setting target price at USD 350.00. Our own verdict is Buy  http://www.stocktargetadvisor.com/toprating', 'sentiment': 2, 'timestamp': '2018-07-01T00:01:24Z'}, {'message_body': '$AMD I heard there’s a guy who knows someone who thinks somebody knows something - on StockTwits.', 'sentiment': 1, 'timestamp': '2018-07-01T00:01:47Z'}, {'message_body': '$AMD reveal yourself!', 'sentiment': 0, 'timestamp': '2018-07-01T00:02:13Z'}, {'message_body': '$AAPL Why the drop? I warren Buffet taking out his position?', 'sentiment': 1, 'timestamp': '2018-07-01T00:03:10Z'}, {'message_body': '$BA bears have 1 reason on 06-29 to pay more attention https://dividendbot.com?s=BA', 'sentiment': -2, 'timestamp': '2018-07-01T00:04:09Z'}, {'message_body': '$BAC ok good we&#39;re not dropping in price over the weekend, lol', 'sentiment': 1, 'timestamp': '2018-07-01T00:04:17Z'}, {'message_body': '$AMAT - Daily Chart, we need to get back to above 50.', 'sentiment': 2, 'timestamp': '2018-07-01T00:08:01Z'}, {'message_body': '$GME 3% drop per week after spike... if no news in 3 months, back to 12s... if BO, then bingo... what is the odds?', 'sentiment': -2, 'timestamp': '2018-07-01T00:09:03Z'}]\n"
     ]
    }
   ],
   "source": [
    "with open(os.path.join('..', '..', 'data', 'project_6_stocktwits', 'twits.json'), 'r') as f:\n",
    "    twits = json.load(f)\n",
    "\n",
    "print(twits['data'][:10])\n",
    "\n",
    "# with open(os.path.join( 'twits','twits.json'), 'r') as f:\n",
    "#     twits = json.load(f)\n",
    "\n",
    "print(twits['data'][:10])"
   ]
  },
  {
   "cell_type": "markdown",
   "metadata": {},
   "source": [
    "### Length of Data\n",
    "Now let's look at the number of twits in dataset. Print the number of twits below."
   ]
  },
  {
   "cell_type": "code",
   "execution_count": 3,
   "metadata": {},
   "outputs": [
    {
     "name": "stdout",
     "output_type": "stream",
     "text": [
      "There are 1548010 Twits\n"
     ]
    }
   ],
   "source": [
    "\"\"\"print out the number of twits\"\"\"\n",
    "\n",
    "# TODO Implement \n",
    "print(\"There are {} Twits\".format(len(twits['data'])))\n",
    "\n"
   ]
  },
  {
   "cell_type": "markdown",
   "metadata": {},
   "source": [
    "### Split Message Body and Sentiment Score"
   ]
  },
  {
   "cell_type": "code",
   "execution_count": 4,
   "metadata": {},
   "outputs": [],
   "source": [
    "messages = [twit['message_body'] for twit in twits['data']]\n",
    "# Since the sentiment scores are discrete, we'll scale the sentiments to 0 to 4 for use in our network\n",
    "sentiments = [twit['sentiment'] + 2 for twit in twits['data']]"
   ]
  },
  {
   "cell_type": "markdown",
   "metadata": {},
   "source": [
    "## Preprocessing the Data\n",
    "With our data in hand we need to preprocess our text. These twits are collected by filtering on ticker symbols where these are denoted with a leader $ symbol in the twit itself. For example,\n",
    "\n",
    "`{'message_body': 'RT @google Our annual look at the year in Google blogging (and beyond) http://t.co/sptHOAh8 $GOOG',\n",
    " 'sentiment': 0}`\n",
    "\n",
    "The ticker symbols don't provide information on the sentiment, and they are in every twit, so we should remove them. This twit also has the `@google` username, again not providing sentiment information, so we should also remove it. We also see a URL `http://t.co/sptHOAh8`. Let's remove these too.\n",
    "\n",
    "The easiest way to remove specific words or phrases is with regex using the `re` module. You can sub out specific patterns with a space:\n",
    "\n",
    "```python\n",
    "re.sub(pattern, ' ', text)\n",
    "```\n",
    "This will substitute a space with anywhere the pattern matches in the text. Later when we tokenize the text, we'll split appropriately on those spaces."
   ]
  },
  {
   "cell_type": "markdown",
   "metadata": {},
   "source": [
    "### Pre-Processing"
   ]
  },
  {
   "cell_type": "code",
   "execution_count": 5,
   "metadata": {},
   "outputs": [
    {
     "name": "stderr",
     "output_type": "stream",
     "text": [
      "[nltk_data] Downloading package wordnet to\n",
      "[nltk_data]     C:\\Users\\EdClarke\\AppData\\Roaming\\nltk_data...\n",
      "[nltk_data]   Package wordnet is already up-to-date!\n"
     ]
    }
   ],
   "source": [
    "nltk.download('wordnet')\n",
    "\n",
    "\n",
    "def preprocess(message):\n",
    "    \"\"\"\n",
    "    This function takes a string as input, then performs these operations: \n",
    "        - lowercase\n",
    "        - remove URLs\n",
    "        - remove ticker symbols \n",
    "        - removes punctuation\n",
    "        - tokenize by splitting the string on whitespace \n",
    "        - removes any single character tokens\n",
    "    \n",
    "    Parameters\n",
    "    ----------\n",
    "        message : The text message to be preprocessed.\n",
    "        \n",
    "    Returns\n",
    "    -------\n",
    "        tokens: The preprocessed text into tokens.\n",
    "    \"\"\" \n",
    "    #TODO: Implement \n",
    "    \n",
    "    # Lowercase the twit message\n",
    "    text = message.lower()\n",
    "    \n",
    "    # Replace URLs with a space in the message\n",
    "    text = re.sub(r'http\\S+', ' ', text)\n",
    "    \n",
    "    # Replace ticker symbols with a space. The ticker symbols are any stock symbol that starts with $.\n",
    "    text = re.sub(r'\\$[a-zA-z]+', ' ', text)\n",
    "    \n",
    "    # Replace StockTwits usernames with a space. The usernames are any word that starts with @.\n",
    "    text = re.sub(r'@\\w+', ' ', text)\n",
    "\n",
    "    # Replace everything not a letter with a space\n",
    "    text = re.sub(r'[^a-zA-Z]', ' ', text)\n",
    "    \n",
    "    # Tokenize by splitting the string on whitespace into a list of words\n",
    "    tokens = text.split()\n",
    "\n",
    "    # Lemmatize words using the WordNetLemmatizer. You can ignore any word that is not longer than one character.\n",
    "    wnl = nltk.stem.WordNetLemmatizer()\n",
    "    tokens = [wnl.lemmatize(w) for w in tokens if len(w) > 1]\n",
    "    \n",
    "\n",
    "    \n",
    "    assert type(tokens) == list, 'Tokens should be list'\n",
    "    return tokens"
   ]
  },
  {
   "cell_type": "markdown",
   "metadata": {},
   "source": [
    ">Note: You must ensure that after preprocessing the text should NOT include:\n",
    "- Numbers\n",
    "- URLs\n",
    "- Single character tokens\n",
    "- Ticker symbols (these should be removed even if they don't appear at the beginning)"
   ]
  },
  {
   "cell_type": "markdown",
   "metadata": {},
   "source": [
    "### Preprocess All the Twits \n",
    "Now we can preprocess each of the twits in our dataset. Apply the function `preprocess` to all the twit messages."
   ]
  },
  {
   "cell_type": "code",
   "execution_count": 6,
   "metadata": {},
   "outputs": [],
   "source": [
    "# TODO Implement\n",
    "tokenized = [preprocess(twit) for twit in messages]"
   ]
  },
  {
   "cell_type": "code",
   "execution_count": 7,
   "metadata": {},
   "outputs": [
    {
     "name": "stdout",
     "output_type": "stream",
     "text": [
      "[['great', 'buy', 'at', 'ill', 'wait'], [], ['staanalystalert', 'for', 'jefferies', 'maintains', 'with', 'rating', 'of', 'hold', 'setting', 'target', 'price', 'at', 'usd', 'our', 'own', 'verdict', 'is', 'buy'], ['heard', 'there', 'guy', 'who', 'know', 'someone', 'who', 'think', 'somebody', 'know', 'something', 'on', 'stocktwits'], ['reveal', 'yourself'], ['why', 'the', 'drop', 'warren', 'buffet', 'taking', 'out', 'his', 'position'], ['bear', 'have', 'reason', 'on', 'to', 'pay', 'more', 'attention'], ['ok', 'good', 'we', 're', 'not', 'dropping', 'in', 'price', 'over', 'the', 'weekend', 'lol'], ['daily', 'chart', 'we', 'need', 'to', 'get', 'back', 'to', 'above'], ['drop', 'per', 'week', 'after', 'spike', 'if', 'no', 'news', 'in', 'month', 'back', 'to', 'if', 'bo', 'then', 'bingo', 'what', 'is', 'the', 'odds'], ['strong', 'buy'], ['short', 'ratio', 'is', 'at', 'and', 'short', 'to', 'float', 'is', 'via'], ['price', 'squeezing', 'perfect', 'place', 'for', 'an', 'option', 'straddle', 'near', 'the', 'supporting', 'trend'], ['start', 'of', 'new', 'on', 'monday', 'expect', 'strong', 'buy', 'volume', 'across', 'key', 'company', 'of', 'various', 'sector'], ['breakout', 'strategy', 'current', 'portfolio']]\n"
     ]
    }
   ],
   "source": [
    "print(tokenized[:15])"
   ]
  },
  {
   "cell_type": "markdown",
   "metadata": {},
   "source": [
    "### Bag of Words\n",
    "Now with all of our messages tokenized, we want to create a vocabulary and count up how often each word appears in our entire corpus. Use the [`Counter`](https://docs.python.org/3.1/library/collections.html#collections.Counter) function to count up all the tokens."
   ]
  },
  {
   "cell_type": "code",
   "execution_count": 8,
   "metadata": {},
   "outputs": [],
   "source": [
    "from collections import Counter\n",
    "\n",
    "\n",
    "\"\"\"\n",
    "Create a vocabulary by using Bag of words\n",
    "\"\"\"\n",
    "# TODO: Implement \n",
    "# Get all the words\n",
    "joined_words = []\n",
    "for t in tokenized:\n",
    "    joined_twit = ' '.join([w for w in t])\n",
    "    joined_words.append(joined_twit)\n",
    "    \n",
    "all_words = ''.join([t for t in joined_words])\n",
    "all_words = all_words.split()\n",
    "\n",
    "\n",
    "# bow = pass\n",
    "bow = Counter(all_words)\n",
    "\n",
    "# vocab = sorted(counter, key = counter.get, reverse = True)\n",
    "# vocab"
   ]
  },
  {
   "cell_type": "markdown",
   "metadata": {},
   "source": [
    "### Frequency of Words Appearing in Message\n",
    "With our vocabulary, now we'll remove some of the most common words such as 'the', 'and', 'it', etc. These words don't contribute to identifying sentiment and are really common, resulting in a lot of noise in our input. If we can filter these out, then our network should have an easier time learning.\n",
    "\n",
    "We also want to remove really rare words that show up in a only a few twits. Here you'll want to divide the count of each word by the **number of messages** calculated in the code block above (i.e. `len(messages))`. Then remove words that only appear in some small fraction of the messages.\n",
    "\n",
    ">Note: There is not an exact number for low and high-frequency cut-offs, however there is a correct optimal range.\n",
    "You should ideally set up low-frequency cut-off from 0.0000002 to 0.000007 (inclusive) and high-frequency from 5 to 20 (inclusive). If the number is too big, we lose lots of important words that we can use in our data."
   ]
  },
  {
   "cell_type": "code",
   "execution_count": 9,
   "metadata": {},
   "outputs": [
    {
     "name": "stdout",
     "output_type": "stream",
     "text": [
      "['the', 'to', 'is', 'for', 'on', 'and', 'of', 'in', 'this', 'it', 'will', 'at', 'up', 'are', 'be', 'you', 'that', 'with', 'what', 'stock']\n"
     ]
    },
    {
     "data": {
      "text/plain": [
       "192826"
      ]
     },
     "execution_count": 9,
     "metadata": {},
     "output_type": "execute_result"
    }
   ],
   "source": [
    "\"\"\"\n",
    "Set the following variables:\n",
    "    freqs\n",
    "    low_cutoff\n",
    "    high_cutoff\n",
    "    K_most_common\n",
    "\"\"\"\n",
    "\n",
    "# TODO Implement \n",
    "\n",
    "# Dictionart that contains the Frequency of words appearing in messages.\n",
    "# The key is the token and the value is the frequency of that word in the corpus.\n",
    "freqs = {word: count/len(messages) for word, count in bow.items()}\n",
    "\n",
    "# Float that is the frequency cutoff. Drop words with a frequency that is lower or equal to this number.\n",
    "low_cutoff =  0.0000007\n",
    "\n",
    "# Integer that is the cut off for most common words. Drop words that are the `high_cutoff` most common words.\n",
    "high_cutoff = 20\n",
    "\n",
    "# The k most common words in the corpus. Use `high_cutoff` as the k.\n",
    "K_most_common = sorted(bow, key = bow.get, reverse = True)[:high_cutoff]\n",
    "\n",
    "\n",
    "filtered_words = [word for word in freqs if (freqs[word] > low_cutoff and word not in K_most_common)]\n",
    "print(K_most_common)\n",
    "len(filtered_words) "
   ]
  },
  {
   "cell_type": "markdown",
   "metadata": {},
   "source": [
    "### Updating Vocabulary by Removing Filtered Words\n",
    "Let's creat three variables that will help with our vocabulary."
   ]
  },
  {
   "cell_type": "code",
   "execution_count": 10,
   "metadata": {},
   "outputs": [],
   "source": [
    "\"\"\"\n",
    "Set the following variables:\n",
    "    vocab\n",
    "    id2vocab\n",
    "    filtered\n",
    "\"\"\"\n",
    "\n",
    "#TODO Implement\n",
    "\n",
    "# A dictionary for the `filtered_words`. The key is the word and value is an id that represents the word. \n",
    "vocab = {word: i for i, word in enumerate(filtered_words)}\n",
    "# Reverse of the `vocab` dictionary. The key is word id and value is the word. \n",
    "id2vocab = {val: w for w, val in vocab.items()}\n",
    "\n",
    "\n",
    "assert set(vocab.keys()) == set(id2vocab.values()), 'Check vocab and id2vocab dictionaries'"
   ]
  },
  {
   "cell_type": "code",
   "execution_count": 11,
   "metadata": {},
   "outputs": [],
   "source": [
    "# tokenized with the words not in `filtered_words` removed.\n",
    "filtered = [[w for w in message if w in vocab] for message in tokenized]"
   ]
  },
  {
   "cell_type": "markdown",
   "metadata": {},
   "source": [
    "### Balancing the classes\n",
    "Let's do a few last pre-processing steps. If we look at how our twits are labeled, we'll find that 50% of them are neutral. This means that our network will be 50% accurate just by guessing 0 every single time. To help our network learn appropriately, we'll want to balance our classes.\n",
    "That is, make sure each of our different sentiment scores show up roughly as frequently in the data.\n",
    "\n",
    "What we can do here is go through each of our examples and randomly drop twits with neutral sentiment. What should be the probability we drop these twits if we want to get around 20% neutral twits starting at 50% neutral? We should also take this opportunity to remove messages with length 0."
   ]
  },
  {
   "cell_type": "code",
   "execution_count": 12,
   "metadata": {},
   "outputs": [],
   "source": [
    "balanced = {'messages': [], 'sentiments':[]}\n",
    "\n",
    "n_neutral = sum(1 for each in sentiments if each == 2)\n",
    "N_examples = len(sentiments)\n",
    "keep_prob = (N_examples - n_neutral)/4/n_neutral\n",
    "\n",
    "for idx, sentiment in enumerate(sentiments):\n",
    "    message = filtered[idx]\n",
    "    if len(message) == 0:\n",
    "        # skip this message because it has length zero\n",
    "        continue\n",
    "    elif sentiment != 2 or random.random() < keep_prob:\n",
    "        balanced['messages'].append(message)\n",
    "        balanced['sentiments'].append(sentiment) "
   ]
  },
  {
   "cell_type": "markdown",
   "metadata": {},
   "source": [
    "If you did it correctly, you should see the following result "
   ]
  },
  {
   "cell_type": "code",
   "execution_count": 13,
   "metadata": {},
   "outputs": [
    {
     "data": {
      "text/plain": [
       "0.19446549017779435"
      ]
     },
     "execution_count": 13,
     "metadata": {},
     "output_type": "execute_result"
    }
   ],
   "source": [
    "n_neutral = sum(1 for each in balanced['sentiments'] if each == 2)\n",
    "N_examples = len(balanced['sentiments'])\n",
    "n_neutral/N_examples"
   ]
  },
  {
   "cell_type": "markdown",
   "metadata": {},
   "source": [
    "Finally let's convert our tokens into integer ids which we can pass to the network."
   ]
  },
  {
   "cell_type": "code",
   "execution_count": 14,
   "metadata": {},
   "outputs": [],
   "source": [
    "token_ids = [[vocab[word] for word in message] for message in balanced['messages']]\n",
    "sentiments = balanced['sentiments']"
   ]
  },
  {
   "cell_type": "markdown",
   "metadata": {},
   "source": [
    "## Neural Network\n",
    "Now we have our vocabulary which means we can transform our tokens into ids, which are then passed to our network. So, let's define the network now!\n",
    "\n",
    "Here is a nice diagram showing the network we'd like to build: \n",
    "\n",
    "#### Embed -> RNN -> Dense -> Softmax\n",
    "### Implement the text classifier\n",
    "Before we build text classifier, if you remember from the other network that you built in  \"Sentiment Analysis with an RNN\"  exercise  - which there, the network called \" SentimentRNN\", here we named it \"TextClassifer\" - consists of three main parts: 1) init function `__init__` 2) forward pass `forward`  3) hidden state `init_hidden`. \n",
    "\n",
    "This network is pretty similar to the network you built expect in the  `forward` pass, we use softmax instead of sigmoid. The reason we are not using sigmoid is that the output of NN is not a binary. In our network, sentiment scores have 5 possible outcomes. We are looking for an outcome with the highest probability thus softmax is a better choice."
   ]
  },
  {
   "cell_type": "code",
   "execution_count": 15,
   "metadata": {},
   "outputs": [],
   "source": [
    "device = torch.device(\"cuda\" if torch.cuda.is_available() else \"cpu\")"
   ]
  },
  {
   "cell_type": "code",
   "execution_count": 38,
   "metadata": {},
   "outputs": [],
   "source": [
    "class TextClassifier(nn.Module):\n",
    "    def __init__(self, vocab_size, embed_size, lstm_size, output_size, lstm_layers=1, dropout=0.1):\n",
    "        \"\"\"\n",
    "        Initialize the model by setting up the layers.\n",
    "        \n",
    "        Parameters\n",
    "        ----------\n",
    "            vocab_size : The vocabulary size.\n",
    "            embed_size : The embedding layer size.\n",
    "            lstm_size : The LSTM layer size.\n",
    "            output_size : The output size.\n",
    "            lstm_layers : The number of LSTM layers.\n",
    "            dropout : The dropout probability.\n",
    "        \"\"\"\n",
    "        \n",
    "        super().__init__()\n",
    "        self.vocab_size = vocab_size\n",
    "        self.embed_size = embed_size\n",
    "        self.lstm_size = lstm_size\n",
    "\n",
    "        self.output_size = output_size\n",
    "        # print(\"self.output_size {}\".format(self.output_size))\n",
    "        self.lstm_layers = lstm_layers\n",
    "        # print(\"self.lstm_layers {}\".format(self.lstm_layers))\n",
    "        self.dropout = dropout\n",
    "        \n",
    "        # TODO Implement\n",
    "\n",
    "        # Setup embedding layer\n",
    "        self.embedding = nn.Embedding(vocab_size, embed_size)\n",
    "        # LSTM\n",
    "        self.lstm = nn.LSTM(embed_size, lstm_size, lstm_layers, dropout = dropout, batch_first = False)\n",
    "        \n",
    "        # Setup additional layers\n",
    "        self.dropout = nn.Dropout(dropout)\n",
    "        # FC layer\n",
    "        self.fc = nn.Linear(lstm_size, output_size)\n",
    "        self.soft = nn.LogSoftmax(dim = 1)\n",
    "\n",
    "        \n",
    "\n",
    "    def init_hidden(self, batch_size):\n",
    "        \"\"\" \n",
    "        Initializes hidden state\n",
    "        \n",
    "        Parameters\n",
    "        ----------\n",
    "            batch_size : The size of batches.\n",
    "        \n",
    "        Returns\n",
    "        -------\n",
    "            hidden_state\n",
    "            \n",
    "        \"\"\"\n",
    "        \n",
    "        # TODO Implement\n",
    "        \n",
    "        # Create two new tensors with sizes n_layers x batch_size x hidden_dim,\n",
    "        # initialized to zero, for hidden state and cell state of LSTM\n",
    "        weight = next(self.parameters()).data\n",
    "        # print(\"Batch size\")\n",
    "        # print(batch_size)\n",
    "        \n",
    "        if torch.cuda.is_available():\n",
    "            hidden = (weight.new(self.lstm_layers, batch_size, self.lstm_size).zero_().cuda(),\n",
    "                  weight.new(self.lstm_layers, batch_size, self.lstm_size).zero_().cuda())\n",
    "        else:\n",
    "            hidden = (weight.new(self.lstm_layers, batch_size, self.lstm_size).zero_(),\n",
    "                      weight.new(self.lstm_layers, batch_size, self.lstm_size).zero_())\n",
    "        \n",
    "        # print(\"initial hidden_state shape: {}\".format(hidden[0].shape))\n",
    "        return hidden\n",
    "\n",
    "\n",
    "    def forward(self, nn_input, hidden_state):\n",
    "        \"\"\"\n",
    "        Perform a forward pass of our model on nn_input.\n",
    "        \n",
    "        Parameters\n",
    "        ----------\n",
    "            nn_input : The batch of input to the NN.\n",
    "            hidden_state : The LSTM hidden state.\n",
    "\n",
    "        Returns\n",
    "        -------\n",
    "            logps: log softmax output\n",
    "            hidden_state: The new hidden state.\n",
    "\n",
    "        \"\"\"\n",
    "        \n",
    "        # TODO Implement \n",
    "\n",
    "        # Get batch size\n",
    "        batch_size = nn_input.size(1)\n",
    "\n",
    "        embeddings = self.embedding(nn_input)\n",
    "        lstm_out, hidden = self.lstm(embeddings, hidden_state)\n",
    "        # print(\"forward pass: hidden (lstm out) shape - {}\".format(hidden[0].shape))\n",
    "        \n",
    "        # Get the last lstm output\n",
    "        lstm_out = lstm_out[-1, :, :] # getting the last time step output\n",
    "        \n",
    "        # May need to use this to reshape it so that the next layer accepts input\n",
    "        lstm_out = lstm_out.contiguous().view(-1, self.lstm_size)\n",
    "        \n",
    "        # print(lstm_out.shape)\n",
    "        # Dropout\n",
    "        out = self.dropout(lstm_out)\n",
    "\n",
    "        # Fully connected layer\n",
    "        out = self.fc(out)\n",
    "\n",
    "        # Softmax\n",
    "        log_ps = self.soft(out)\n",
    "        \n",
    "        return log_ps, hidden"
   ]
  },
  {
   "cell_type": "markdown",
   "metadata": {},
   "source": [
    "### View Model"
   ]
  },
  {
   "cell_type": "code",
   "execution_count": 39,
   "metadata": {},
   "outputs": [
    {
     "name": "stdout",
     "output_type": "stream",
     "text": [
      "tensor([[-1.4033, -1.6338, -1.4983, -1.9109, -1.6735],\n",
      "        [-1.4238, -1.6442, -1.5136, -1.8497, -1.6679],\n",
      "        [-1.4557, -1.6307, -1.4769, -1.8227, -1.7090],\n",
      "        [-1.4562, -1.6233, -1.4784, -1.8419, -1.6976]],\n",
      "       grad_fn=<LogSoftmaxBackward0>)\n"
     ]
    }
   ],
   "source": [
    "model = TextClassifier(len(vocab), 10, 6, 5, dropout=0.1, lstm_layers=2)\n",
    "model.embedding.weight.data.uniform_(-1, 1)\n",
    "input = torch.randint(0, 1000, (5, 4), dtype=torch.int64)\n",
    "hidden = model.init_hidden(4)\n",
    "\n",
    "logps, _ = model.forward(input, hidden)\n",
    "print(logps)"
   ]
  },
  {
   "cell_type": "markdown",
   "metadata": {},
   "source": [
    "## Training\n",
    "### DataLoaders and Batching\n",
    "Now we should build a generator that we can use to loop through our data. It'll be more efficient if we can pass our sequences in as batches. Our input tensors should look like `(sequence_length, batch_size)`. So if our sequences are 40 tokens long and we pass in 25 sequences, then we'd have an input size of `(40, 25)`.\n",
    "\n",
    "If we set our sequence length to 40, what do we do with messages that are more or less than 40 tokens? For messages with fewer than 40 tokens, we will pad the empty spots with zeros. We should be sure to **left** pad so that the RNN starts from nothing before going through the data. If the message has 20 tokens, then the first 20 spots of our 40 long sequence will be 0. If a message has more than 40 tokens, we'll just keep the first 40 tokens."
   ]
  },
  {
   "cell_type": "code",
   "execution_count": 40,
   "metadata": {},
   "outputs": [],
   "source": [
    "def dataloader(messages, labels, sequence_length=30, batch_size=32, shuffle=False):\n",
    "    \"\"\" \n",
    "    Build a dataloader.\n",
    "    \"\"\"\n",
    "    if shuffle:\n",
    "        indices = list(range(len(messages)))\n",
    "        random.shuffle(indices)\n",
    "        messages = [messages[idx] for idx in indices]\n",
    "        labels = [labels[idx] for idx in indices]\n",
    "\n",
    "    total_sequences = len(messages)\n",
    "\n",
    "    for ii in range(0, total_sequences, batch_size):\n",
    "        batch_messages = messages[ii: ii+batch_size]\n",
    "        \n",
    "        # First initialize a tensor of all zeros\n",
    "        batch = torch.zeros((sequence_length, len(batch_messages)), dtype=torch.int64)\n",
    "        for batch_num, tokens in enumerate(batch_messages):\n",
    "            token_tensor = torch.tensor(tokens)\n",
    "            # Left pad!\n",
    "            start_idx = max(sequence_length - len(token_tensor), 0)\n",
    "            batch[start_idx:, batch_num] = token_tensor[:sequence_length]\n",
    "        \n",
    "        label_tensor = torch.tensor(labels[ii: ii+len(batch_messages)])\n",
    "        \n",
    "        yield batch, label_tensor"
   ]
  },
  {
   "cell_type": "markdown",
   "metadata": {},
   "source": [
    "### Training and  Validation\n",
    "With our data in nice shape, we'll split it into training and validation sets."
   ]
  },
  {
   "cell_type": "code",
   "execution_count": 41,
   "metadata": {},
   "outputs": [],
   "source": [
    "\"\"\"\n",
    "Split data into training and validation datasets. Use an appropriate split size.\n",
    "The features are the `token_ids` and the labels are the `sentiments`.\n",
    "\"\"\"   \n",
    "\n",
    "# TODO Implement \n",
    "\n",
    "split_idx = int(0.8*len(token_ids))\n",
    "\n",
    "train_features = token_ids[:split_idx]\n",
    "valid_features = token_ids[split_idx:]\n",
    "train_labels = sentiments[:split_idx]\n",
    "valid_labels = sentiments[split_idx:]\n",
    "\n",
    "assert len(train_features) == len(train_labels) # 'Check vocab and id2vocab dictionaries'"
   ]
  },
  {
   "cell_type": "code",
   "execution_count": 44,
   "metadata": {},
   "outputs": [],
   "source": [
    "text_batch, labels = next(iter(dataloader(train_features, train_labels, sequence_length=20, batch_size=64)))\n",
    "model = TextClassifier(len(vocab)+1, 50, 40, 5, dropout=0.)\n",
    "hidden = model.init_hidden(64) # Was 64\n",
    "logps, hidden = model.forward(text_batch, hidden)"
   ]
  },
  {
   "cell_type": "markdown",
   "metadata": {},
   "source": [
    "### Training\n",
    "It's time to train the neural network!"
   ]
  },
  {
   "cell_type": "code",
   "execution_count": 45,
   "metadata": {},
   "outputs": [
    {
     "data": {
      "text/plain": [
       "TextClassifier(\n",
       "  (embedding): Embedding(192827, 50)\n",
       "  (lstm): LSTM(50, 40, num_layers=2, dropout=0.2)\n",
       "  (dropout): Dropout(p=0.2, inplace=False)\n",
       "  (fc): Linear(in_features=40, out_features=5, bias=True)\n",
       "  (soft): LogSoftmax(dim=1)\n",
       ")"
      ]
     },
     "execution_count": 45,
     "metadata": {},
     "output_type": "execute_result"
    }
   ],
   "source": [
    "device = torch.device(\"cuda\" if torch.cuda.is_available() else \"cpu\")\n",
    "\n",
    "model = TextClassifier(len(vocab)+1, 50, 40, 5, lstm_layers=2, dropout=0.2)\n",
    "model.embedding.weight.data.uniform_(-1, 1)\n",
    "model.to(device)"
   ]
  },
  {
   "cell_type": "code",
   "execution_count": 46,
   "metadata": {},
   "outputs": [
    {
     "name": "stdout",
     "output_type": "stream",
     "text": [
      "Starting epoch 1\n",
      "Epoch: 1/3... Step: 100... Loss: 1.064397... Val Loss: 1.077152... Val Accuracy: 0.568277\n",
      "Epoch: 1/3... Step: 200... Loss: 0.994460... Val Loss: 0.998295... Val Accuracy: 0.607144\n",
      "Epoch: 1/3... Step: 300... Loss: 0.933557... Val Loss: 0.964115... Val Accuracy: 0.624028\n",
      "Epoch: 1/3... Step: 400... Loss: 0.937523... Val Loss: 0.955028... Val Accuracy: 0.632343\n",
      "Epoch: 1/3... Step: 500... Loss: 0.872038... Val Loss: 0.948814... Val Accuracy: 0.628246\n",
      "Epoch: 1/3... Step: 600... Loss: 0.893860... Val Loss: 0.941871... Val Accuracy: 0.637106\n",
      "Epoch: 1/3... Step: 700... Loss: 0.884366... Val Loss: 0.932492... Val Accuracy: 0.634296\n",
      "Epoch: 1/3... Step: 800... Loss: 0.958410... Val Loss: 0.933026... Val Accuracy: 0.623902\n",
      "Epoch: 1/3... Step: 900... Loss: 0.925079... Val Loss: 0.934307... Val Accuracy: 0.629674\n",
      "Epoch: 1/3... Step: 1000... Loss: 0.918043... Val Loss: 0.933377... Val Accuracy: 0.641018\n",
      "Epoch: 1/3... Step: 1100... Loss: 0.881815... Val Loss: 0.932898... Val Accuracy: 0.640551\n",
      "Epoch: 1/3... Step: 1200... Loss: 0.918646... Val Loss: 0.935479... Val Accuracy: 0.635227\n",
      "Epoch: 1/3... Step: 1300... Loss: 0.995724... Val Loss: 0.930257... Val Accuracy: 0.637723\n",
      "Epoch: 1/3... Step: 1400... Loss: 0.928179... Val Loss: 0.919991... Val Accuracy: 0.646741\n",
      "Epoch: 1/3... Step: 1500... Loss: 0.998764... Val Loss: 0.929463... Val Accuracy: 0.640028\n",
      "Epoch: 1/3... Step: 1600... Loss: 0.934244... Val Loss: 0.917271... Val Accuracy: 0.651285\n",
      "Epoch: 1/3... Step: 1700... Loss: 1.008045... Val Loss: 0.912755... Val Accuracy: 0.653320\n",
      "Epoch: 1/3... Step: 1800... Loss: 0.953442... Val Loss: 0.922749... Val Accuracy: 0.638911\n",
      "Epoch: 1/3... Step: 1900... Loss: 0.897845... Val Loss: 0.915566... Val Accuracy: 0.650450\n",
      "Epoch: 1/3... Step: 2000... Loss: 0.890863... Val Loss: 0.910551... Val Accuracy: 0.647677\n",
      "Epoch: 1/3... Step: 2100... Loss: 0.858071... Val Loss: 0.919165... Val Accuracy: 0.648702\n",
      "Epoch: 1/3... Step: 2200... Loss: 0.940352... Val Loss: 0.916396... Val Accuracy: 0.648775\n",
      "Epoch: 1/3... Step: 2300... Loss: 0.769774... Val Loss: 0.915206... Val Accuracy: 0.648038\n",
      "Epoch: 1/3... Step: 2400... Loss: 1.036173... Val Loss: 0.915303... Val Accuracy: 0.649809\n",
      "Epoch: 1/3... Step: 2500... Loss: 0.909810... Val Loss: 0.916425... Val Accuracy: 0.647377\n",
      "Epoch: 1/3... Step: 2600... Loss: 0.887839... Val Loss: 0.908571... Val Accuracy: 0.654173\n",
      "Epoch: 1/3... Step: 2700... Loss: 0.989433... Val Loss: 0.907003... Val Accuracy: 0.644416\n",
      "Epoch: 1/3... Step: 2800... Loss: 0.923113... Val Loss: 0.921857... Val Accuracy: 0.637775\n",
      "Epoch: 1/3... Step: 2900... Loss: 0.933826... Val Loss: 0.912071... Val Accuracy: 0.648664\n",
      "Epoch: 1/3... Step: 3000... Loss: 0.912334... Val Loss: 0.915515... Val Accuracy: 0.647557\n",
      "Epoch: 1/3... Step: 3100... Loss: 0.982010... Val Loss: 0.903060... Val Accuracy: 0.652795\n",
      "Epoch: 1/3... Step: 3200... Loss: 0.883010... Val Loss: 0.904079... Val Accuracy: 0.653343\n",
      "Epoch: 1/3... Step: 3300... Loss: 1.063502... Val Loss: 0.903223... Val Accuracy: 0.656600\n",
      "Epoch: 1/3... Step: 3400... Loss: 0.867175... Val Loss: 0.901491... Val Accuracy: 0.655883\n",
      "Epoch: 1/3... Step: 3500... Loss: 0.967374... Val Loss: 0.901927... Val Accuracy: 0.655861\n",
      "Epoch: 1/3... Step: 3600... Loss: 0.949381... Val Loss: 0.910243... Val Accuracy: 0.651237\n",
      "Epoch: 1/3... Step: 3700... Loss: 1.022924... Val Loss: 0.908585... Val Accuracy: 0.654940\n",
      "Epoch: 1/3... Step: 3800... Loss: 0.877321... Val Loss: 0.915705... Val Accuracy: 0.646242\n",
      "Epoch: 1/3... Step: 3900... Loss: 0.973916... Val Loss: 0.910134... Val Accuracy: 0.652601\n",
      "Epoch: 1/3... Step: 4000... Loss: 0.918253... Val Loss: 0.914446... Val Accuracy: 0.643212\n",
      "Epoch: 1/3... Step: 4100... Loss: 0.945818... Val Loss: 0.916540... Val Accuracy: 0.626839\n",
      "Starting epoch 2\n",
      "Epoch: 2/3... Step: 100... Loss: 1.035272... Val Loss: 0.917078... Val Accuracy: 0.645228\n",
      "Epoch: 2/3... Step: 200... Loss: 0.968637... Val Loss: 0.918571... Val Accuracy: 0.628936\n",
      "Epoch: 2/3... Step: 300... Loss: 0.895950... Val Loss: 0.908810... Val Accuracy: 0.650533\n",
      "Epoch: 2/3... Step: 400... Loss: 0.949669... Val Loss: 0.914367... Val Accuracy: 0.642995\n",
      "Epoch: 2/3... Step: 500... Loss: 0.886204... Val Loss: 0.921278... Val Accuracy: 0.641188\n",
      "Epoch: 2/3... Step: 600... Loss: 0.962760... Val Loss: 0.913270... Val Accuracy: 0.651353\n",
      "Epoch: 2/3... Step: 700... Loss: 0.977180... Val Loss: 0.924017... Val Accuracy: 0.644775\n",
      "Epoch: 2/3... Step: 800... Loss: 1.066997... Val Loss: 0.931196... Val Accuracy: 0.640319\n",
      "Epoch: 2/3... Step: 900... Loss: 0.980040... Val Loss: 0.922334... Val Accuracy: 0.643032\n",
      "Epoch: 2/3... Step: 1000... Loss: 0.852919... Val Loss: 0.916087... Val Accuracy: 0.643178\n",
      "Epoch: 2/3... Step: 1100... Loss: 0.868104... Val Loss: 0.918044... Val Accuracy: 0.646891\n",
      "Epoch: 2/3... Step: 1200... Loss: 0.935957... Val Loss: 0.923123... Val Accuracy: 0.647547\n",
      "Epoch: 2/3... Step: 1300... Loss: 0.872164... Val Loss: 0.929463... Val Accuracy: 0.637619\n",
      "Epoch: 2/3... Step: 1400... Loss: 0.890328... Val Loss: 0.919638... Val Accuracy: 0.644727\n",
      "Epoch: 2/3... Step: 1500... Loss: 0.902494... Val Loss: 0.921718... Val Accuracy: 0.640902\n",
      "Epoch: 2/3... Step: 1600... Loss: 0.915586... Val Loss: 0.916781... Val Accuracy: 0.647378\n",
      "Epoch: 2/3... Step: 1700... Loss: 0.880176... Val Loss: 0.921509... Val Accuracy: 0.636362\n",
      "Epoch: 2/3... Step: 1800... Loss: 0.882122... Val Loss: 0.917500... Val Accuracy: 0.648188\n",
      "Epoch: 2/3... Step: 1900... Loss: 0.931036... Val Loss: 0.917658... Val Accuracy: 0.645256\n",
      "Epoch: 2/3... Step: 2000... Loss: 1.006541... Val Loss: 0.924193... Val Accuracy: 0.642310\n",
      "Epoch: 2/3... Step: 2100... Loss: 0.989046... Val Loss: 0.927105... Val Accuracy: 0.628338\n",
      "Epoch: 2/3... Step: 2200... Loss: 1.002654... Val Loss: 0.930819... Val Accuracy: 0.644158\n",
      "Epoch: 2/3... Step: 2300... Loss: 1.020687... Val Loss: 0.920947... Val Accuracy: 0.643334\n",
      "Epoch: 2/3... Step: 2400... Loss: 1.055318... Val Loss: 0.925861... Val Accuracy: 0.642810\n",
      "Epoch: 2/3... Step: 2500... Loss: 1.012031... Val Loss: 0.922694... Val Accuracy: 0.645994\n",
      "Epoch: 2/3... Step: 2600... Loss: 0.967499... Val Loss: 0.927357... Val Accuracy: 0.633106\n",
      "Epoch: 2/3... Step: 2700... Loss: 0.918975... Val Loss: 0.936381... Val Accuracy: 0.633246\n",
      "Epoch: 2/3... Step: 2800... Loss: 0.931392... Val Loss: 0.926193... Val Accuracy: 0.639693\n",
      "Epoch: 2/3... Step: 2900... Loss: 1.013204... Val Loss: 0.927984... Val Accuracy: 0.629649\n",
      "Epoch: 2/3... Step: 3000... Loss: 1.038170... Val Loss: 0.924086... Val Accuracy: 0.638057\n",
      "Epoch: 2/3... Step: 3100... Loss: 0.933169... Val Loss: 0.923566... Val Accuracy: 0.647441\n",
      "Epoch: 2/3... Step: 3200... Loss: 0.959639... Val Loss: 0.928846... Val Accuracy: 0.628955\n",
      "Epoch: 2/3... Step: 3300... Loss: 0.966584... Val Loss: 0.929506... Val Accuracy: 0.646770\n",
      "Epoch: 2/3... Step: 3400... Loss: 1.039605... Val Loss: 0.932603... Val Accuracy: 0.644896\n",
      "Epoch: 2/3... Step: 3500... Loss: 0.889250... Val Loss: 0.923177... Val Accuracy: 0.645033\n",
      "Epoch: 2/3... Step: 3600... Loss: 0.984921... Val Loss: 0.929829... Val Accuracy: 0.644828\n",
      "Epoch: 2/3... Step: 3700... Loss: 0.949877... Val Loss: 0.929165... Val Accuracy: 0.635368\n",
      "Epoch: 2/3... Step: 3800... Loss: 0.966753... Val Loss: 0.933655... Val Accuracy: 0.642392\n",
      "Epoch: 2/3... Step: 3900... Loss: 1.076284... Val Loss: 0.921855... Val Accuracy: 0.647542\n",
      "Epoch: 2/3... Step: 4000... Loss: 0.932019... Val Loss: 0.927480... Val Accuracy: 0.644324\n",
      "Epoch: 2/3... Step: 4100... Loss: 0.917408... Val Loss: 0.933308... Val Accuracy: 0.631780\n",
      "Starting epoch 3\n",
      "Epoch: 3/3... Step: 100... Loss: 0.932183... Val Loss: 0.921598... Val Accuracy: 0.648251\n",
      "Epoch: 3/3... Step: 200... Loss: 0.930228... Val Loss: 0.926190... Val Accuracy: 0.636377\n",
      "Epoch: 3/3... Step: 300... Loss: 1.009784... Val Loss: 0.934937... Val Accuracy: 0.638863\n",
      "Epoch: 3/3... Step: 400... Loss: 0.957514... Val Loss: 0.945583... Val Accuracy: 0.623532\n",
      "Epoch: 3/3... Step: 500... Loss: 0.856569... Val Loss: 0.942112... Val Accuracy: 0.632373\n",
      "Epoch: 3/3... Step: 600... Loss: 0.967736... Val Loss: 0.935792... Val Accuracy: 0.641323\n",
      "Epoch: 3/3... Step: 700... Loss: 1.161335... Val Loss: 0.932899... Val Accuracy: 0.637115\n",
      "Epoch: 3/3... Step: 800... Loss: 1.009521... Val Loss: 0.931460... Val Accuracy: 0.636581\n",
      "Epoch: 3/3... Step: 900... Loss: 0.993028... Val Loss: 0.935298... Val Accuracy: 0.642737\n",
      "Epoch: 3/3... Step: 1000... Loss: 0.970645... Val Loss: 0.934912... Val Accuracy: 0.635835\n",
      "Epoch: 3/3... Step: 1100... Loss: 0.950976... Val Loss: 0.939774... Val Accuracy: 0.637853\n",
      "Epoch: 3/3... Step: 1200... Loss: 1.116520... Val Loss: 0.934908... Val Accuracy: 0.638596\n",
      "Epoch: 3/3... Step: 1300... Loss: 0.963166... Val Loss: 0.937860... Val Accuracy: 0.633571\n",
      "Epoch: 3/3... Step: 1400... Loss: 0.942012... Val Loss: 0.954283... Val Accuracy: 0.627576\n",
      "Epoch: 3/3... Step: 1500... Loss: 0.957659... Val Loss: 0.952982... Val Accuracy: 0.634450\n",
      "Epoch: 3/3... Step: 1600... Loss: 1.032034... Val Loss: 0.960658... Val Accuracy: 0.630125\n",
      "Epoch: 3/3... Step: 1700... Loss: 1.014555... Val Loss: 0.943184... Val Accuracy: 0.631707\n",
      "Epoch: 3/3... Step: 1800... Loss: 1.111900... Val Loss: 0.934103... Val Accuracy: 0.640858\n",
      "Epoch: 3/3... Step: 1900... Loss: 0.876810... Val Loss: 0.941007... Val Accuracy: 0.637130\n",
      "Epoch: 3/3... Step: 2000... Loss: 1.052659... Val Loss: 0.938213... Val Accuracy: 0.637708\n",
      "Epoch: 3/3... Step: 2100... Loss: 0.910065... Val Loss: 0.932948... Val Accuracy: 0.639032\n",
      "Epoch: 3/3... Step: 2200... Loss: 1.026262... Val Loss: 0.936950... Val Accuracy: 0.641333\n",
      "Epoch: 3/3... Step: 2300... Loss: 1.021241... Val Loss: 0.931769... Val Accuracy: 0.643062\n",
      "Epoch: 3/3... Step: 2400... Loss: 0.973564... Val Loss: 0.927270... Val Accuracy: 0.646411\n",
      "Epoch: 3/3... Step: 2500... Loss: 0.933151... Val Loss: 0.926283... Val Accuracy: 0.644620\n",
      "Epoch: 3/3... Step: 2600... Loss: 0.850190... Val Loss: 0.927440... Val Accuracy: 0.645334\n",
      "Epoch: 3/3... Step: 2700... Loss: 0.972280... Val Loss: 0.935871... Val Accuracy: 0.639746\n",
      "Epoch: 3/3... Step: 2800... Loss: 1.072109... Val Loss: 0.932023... Val Accuracy: 0.641858\n",
      "Epoch: 3/3... Step: 2900... Loss: 0.971217... Val Loss: 0.943691... Val Accuracy: 0.630634\n",
      "Epoch: 3/3... Step: 3000... Loss: 0.995963... Val Loss: 0.932663... Val Accuracy: 0.643008\n",
      "Epoch: 3/3... Step: 3100... Loss: 0.965662... Val Loss: 0.937138... Val Accuracy: 0.642713\n",
      "Epoch: 3/3... Step: 3200... Loss: 0.975265... Val Loss: 0.940101... Val Accuracy: 0.638659\n",
      "Epoch: 3/3... Step: 3300... Loss: 0.888015... Val Loss: 0.940637... Val Accuracy: 0.638348\n",
      "Epoch: 3/3... Step: 3400... Loss: 0.871597... Val Loss: 0.936204... Val Accuracy: 0.642169\n",
      "Epoch: 3/3... Step: 3500... Loss: 1.002465... Val Loss: 0.948603... Val Accuracy: 0.630518\n",
      "Epoch: 3/3... Step: 3600... Loss: 1.000363... Val Loss: 0.942164... Val Accuracy: 0.638318\n",
      "Epoch: 3/3... Step: 3700... Loss: 1.056111... Val Loss: 0.944928... Val Accuracy: 0.638144\n",
      "Epoch: 3/3... Step: 3800... Loss: 0.925421... Val Loss: 0.942365... Val Accuracy: 0.637183\n",
      "Epoch: 3/3... Step: 3900... Loss: 0.956742... Val Loss: 0.956629... Val Accuracy: 0.631945\n",
      "Epoch: 3/3... Step: 4000... Loss: 0.947571... Val Loss: 0.939322... Val Accuracy: 0.641270\n",
      "Epoch: 3/3... Step: 4100... Loss: 0.890070... Val Loss: 0.944314... Val Accuracy: 0.636931\n"
     ]
    }
   ],
   "source": [
    "\"\"\"\n",
    "Train your model with dropout. Make sure to clip your gradients.\n",
    "Print the training loss, validation loss, and validation accuracy for every 100 steps.\n",
    "\"\"\"\n",
    "\n",
    "epochs = 3 # to be fine-tuned\n",
    "batch_size = 200   # to be fine-tuned\n",
    "learning_rate = 0.03 # to be fine-tuned\n",
    "clip=5 # gradient clipping\n",
    "print_every = 100\n",
    "criterion = nn.NLLLoss()\n",
    "optimizer = optim.Adam(model.parameters(), lr=learning_rate)\n",
    "model.train()\n",
    "for epoch in range(epochs):\n",
    "    print('Starting epoch {}'.format(epoch + 1))\n",
    "    \n",
    "    steps = 0\n",
    "    \n",
    "    for text_batch, labels in dataloader(\n",
    "            train_features, train_labels, batch_size=batch_size, sequence_length=20, shuffle=True):\n",
    "        \n",
    "        steps += 1\n",
    "        \n",
    "        # initialize hidden state\n",
    "        hidden = model.init_hidden(labels.shape[0])\n",
    "\n",
    "        # print(labels.shape[0])\n",
    "        \n",
    "        # Set Device\n",
    "        text_batch, labels = text_batch.to(device), labels.to(device)\n",
    "        for each in hidden:\n",
    "            each.to(device)\n",
    "        \n",
    "        \n",
    "        # clean hidden state\n",
    "        hidden = tuple([each.data for each in hidden])\n",
    "        \n",
    "        \n",
    "        # TODO Implement: Train Model\n",
    "        \n",
    "        #intilialize gradients\n",
    "        optimizer.zero_grad()\n",
    "        \n",
    "        # get output\n",
    "        output, hidden = model(text_batch, hidden)\n",
    "        # print(output.shape)\n",
    "        # calculate the loss and perform backprop\n",
    "        loss = criterion(output.squeeze(), labels)\n",
    "        loss.backward()\n",
    "        # clipping to avoid exploding gradient\n",
    "        nn.utils.clip_grad_norm_(model.parameters(), clip)\n",
    "        optimizer.step()\n",
    "        \n",
    "        # check and print current progress\n",
    "        if steps % print_every == 0:\n",
    "            # Get validation loss\n",
    "            \n",
    "            val_losses = []\n",
    "            valid_accuracies = []\n",
    "            \n",
    "            model.eval()\n",
    "            \n",
    "            for text_batch, labels in dataloader(\n",
    "                valid_features, valid_labels, batch_size=batch_size, sequence_length=20, shuffle=True):\n",
    "\n",
    "                    val_h = model.init_hidden(labels.shape[0])\n",
    "                    \n",
    "                    # Set Device\n",
    "                    text_batch, labels = text_batch.to(device), labels.to(device)\n",
    "                    for each in val_h:\n",
    "                        each.to(device)\n",
    "                    \n",
    "                    val_h = tuple([each.data for each in val_h])\n",
    "                    output, val_h = model(text_batch, val_h)\n",
    "                    val_loss = criterion(output, labels)\n",
    "                    val_losses.append(val_loss.item())\n",
    "                    \n",
    "                    # for accuracy\n",
    "                    top_val, top_class = torch.exp(output).topk(1)\n",
    "                    equality = top_class == labels.view(*top_class.shape)\n",
    "                    valid_accuracy = torch.mean(equality.type(torch.FloatTensor))\n",
    "                    valid_accuracies.append(valid_accuracy.item())\n",
    "                    \n",
    "            # TODO Implement: Print metrics\n",
    "            print(\"Epoch: {}/{}...\".format(epoch+1, epochs),\n",
    "                  \"Step: {}...\".format(steps),\n",
    "                  \"Loss: {:.6f}...\".format(loss.item()),\n",
    "                  \"Val Loss: {:.6f}...\".format(sum(val_losses)/len(val_losses)),\n",
    "                  \"Val Accuracy: {:.6f}\".format(sum(valid_accuracies)/len(valid_accuracies)))\n",
    "            \n",
    "            # back in train mode\n",
    "            model.train()\n"
   ]
  },
  {
   "cell_type": "code",
   "execution_count": 47,
   "metadata": {},
   "outputs": [],
   "source": [
    "# Save the model\n",
    "torch.save(model.state_dict(), 'checkpoint_v1.pth') "
   ]
  },
  {
   "cell_type": "markdown",
   "metadata": {},
   "source": [
    "## Making Predictions\n",
    "### Prediction \n",
    "Okay, now that you have a trained model, try it on some new twits and see if it works appropriately. Remember that for any new text, you'll need to preprocess it first before passing it to the network. Implement the `predict` function to generate the prediction vector from a message."
   ]
  },
  {
   "cell_type": "code",
   "execution_count": 48,
   "metadata": {},
   "outputs": [],
   "source": [
    "def predict(text, model, vocab, sequence_length = 30):\n",
    "    \"\"\" \n",
    "    Make a prediction on a single sentence.\n",
    "\n",
    "    Parameters\n",
    "    ----------\n",
    "        text : The string to make a prediction on.\n",
    "        model : The model to use for making the prediction.\n",
    "        vocab : Dictionary for word to word ids. The key is the word and the value is the word id.\n",
    "\n",
    "    Returns\n",
    "    -------\n",
    "        pred : Prediction vector\n",
    "    \"\"\"    \n",
    "    \n",
    "    # TODO Implement\n",
    "    \n",
    "    tokens = preprocess(text)  # preprocess return a tokenised, lemmatised version of sentence\n",
    "    \n",
    "    # Filter non-vocab words\n",
    "    tokens = [w for w in tokens if w in vocab]   # This maybe should be vocab.keys()?\n",
    "    # Convert words to ids\n",
    "    tokens = [vocab[w] for w in tokens]\n",
    "    \n",
    "    # Adding a batch dimension\n",
    "    text_input = torch.tensor(tokens).view(-1, 1)\n",
    "\n",
    "    # Initiate hidden \n",
    "    hidden = model.init_hidden(1)\n",
    "    # Get the NN output\n",
    "    logps, _ = model.forward(text_input, hidden)\n",
    "\n",
    "    # Take the exponent of the NN output to get a range of 0 to 1 for each label.\n",
    "    pred = torch.exp(logps)\n",
    "\n",
    "    print(pred.shape)\n",
    "    \n",
    "    return pred"
   ]
  },
  {
   "cell_type": "code",
   "execution_count": 49,
   "metadata": {},
   "outputs": [
    {
     "name": "stdout",
     "output_type": "stream",
     "text": [
      "torch.Size([1, 5])\n"
     ]
    },
    {
     "data": {
      "text/plain": [
       "tensor([[0.0016, 0.0229, 0.0392, 0.8274, 0.1088]], grad_fn=<ExpBackward0>)"
      ]
     },
     "execution_count": 49,
     "metadata": {},
     "output_type": "execute_result"
    }
   ],
   "source": [
    "text = \"Google is working on self driving cars, I'm bullish on $goog\"\n",
    "model.eval()\n",
    "# model.to(\"cpu\")\n",
    "predict(text, model, vocab)"
   ]
  },
  {
   "cell_type": "markdown",
   "metadata": {},
   "source": [
    "### Questions: What is the prediction of the model? What is the uncertainty of the prediction?\n",
    "\n",
    "The prediction is saying that with 82% probabilty the sentiment is positive (on the five scale sentiment scale of strongly negative to strongly positive). It has predicted this phrase with high certainty that it is positive/strongly positive - assigning very low probabilities to the strongly negative/negative scores."
   ]
  },
  {
   "cell_type": "markdown",
   "metadata": {},
   "source": [
    "Now we have a trained model and we can make predictions. We can use this model to track the sentiments of various stocks by predicting the sentiments of twits as they are coming in. Now we have a stream of twits. For each of those twits, pull out the stocks mentioned in them and keep track of the sentiments. Remember that in the twits, ticker symbols are encoded with a dollar sign as the first character, all caps, and 2-4 letters, like $AAPL. Ideally, you'd want to track the sentiments of the stocks in your universe and use this as a signal in your larger model(s).\n",
    "\n",
    "## Testing\n",
    "### Load the Data "
   ]
  },
  {
   "cell_type": "code",
   "execution_count": 55,
   "metadata": {},
   "outputs": [],
   "source": [
    "with open(os.path.join('..', '..', 'data', 'project_6_stocktwits', 'test_twits.json'), 'r') as f:\n",
    "    test_data = json.load(f)\n",
    "\n",
    "# with open(os.path.join( 'test_twits.json'), 'r') as f:\n",
    "#     test_data = json.load(f)"
   ]
  },
  {
   "cell_type": "markdown",
   "metadata": {},
   "source": [
    "### Twit Stream"
   ]
  },
  {
   "cell_type": "code",
   "execution_count": 56,
   "metadata": {},
   "outputs": [
    {
     "data": {
      "text/plain": [
       "{'message_body': '$JWN has moved -1.69% on 10-31. Check out the movement and peers at  https://dividendbot.com?s=JWN',\n",
       " 'timestamp': '2018-11-01T00:00:05Z'}"
      ]
     },
     "execution_count": 56,
     "metadata": {},
     "output_type": "execute_result"
    }
   ],
   "source": [
    "def twit_stream():\n",
    "    for twit in test_data['data']:\n",
    "        yield twit\n",
    "\n",
    "next(twit_stream())"
   ]
  },
  {
   "cell_type": "markdown",
   "metadata": {},
   "source": [
    "Using the `prediction` function, let's apply it to a stream of twits."
   ]
  },
  {
   "cell_type": "code",
   "execution_count": 57,
   "metadata": {},
   "outputs": [],
   "source": [
    "def score_twits(stream, model, vocab, universe):\n",
    "    \"\"\" \n",
    "    Given a stream of twits and a universe of tickers, return sentiment scores for tickers in the universe.\n",
    "    \"\"\"\n",
    "    for twit in stream:\n",
    "\n",
    "        # Get the message text\n",
    "        text = twit['message_body']\n",
    "        symbols = re.findall('\\$[A-Z]{2,4}', text)\n",
    "        score = predict(text, model, vocab)\n",
    "\n",
    "        for symbol in symbols:\n",
    "            if symbol in universe:\n",
    "                yield {'symbol': symbol, 'score': score, 'timestamp': twit['timestamp']}"
   ]
  },
  {
   "cell_type": "code",
   "execution_count": 58,
   "metadata": {},
   "outputs": [
    {
     "name": "stdout",
     "output_type": "stream",
     "text": [
      "torch.Size([1, 5])\n",
      "torch.Size([1, 5])\n",
      "torch.Size([1, 5])\n"
     ]
    },
    {
     "data": {
      "text/plain": [
       "{'symbol': '$AAPL',\n",
       " 'score': tensor([[0.0490, 0.1048, 0.4088, 0.3354, 0.1020]], grad_fn=<ExpBackward0>),\n",
       " 'timestamp': '2018-11-01T00:00:18Z'}"
      ]
     },
     "execution_count": 58,
     "metadata": {},
     "output_type": "execute_result"
    }
   ],
   "source": [
    "universe = {'$BBRY', '$AAPL', '$AMZN', '$BABA', '$YHOO', '$LQMT', '$FB', '$GOOG', '$BBBY', '$JNUG', '$SBUX', '$MU'}\n",
    "score_stream = score_twits(twit_stream(), model, vocab, universe)\n",
    "\n",
    "next(score_stream)"
   ]
  },
  {
   "cell_type": "markdown",
   "metadata": {},
   "source": [
    "That's it. You have successfully built a model for sentiment analysis! "
   ]
  },
  {
   "cell_type": "markdown",
   "metadata": {},
   "source": [
    "## Submission\n",
    "Now that you're done with the project, it's time to submit it. Click the submit button in the bottom right. One of our reviewers will give you feedback on your project with a pass or not passed grade. You can continue to the next section while you wait for feedback."
   ]
  }
 ],
 "metadata": {
  "kernelspec": {
   "display_name": "Python 3",
   "language": "python",
   "name": "python3"
  },
  "language_info": {
   "codemirror_mode": {
    "name": "ipython",
    "version": 3
   },
   "file_extension": ".py",
   "mimetype": "text/x-python",
   "name": "python",
   "nbconvert_exporter": "python",
   "pygments_lexer": "ipython3",
   "version": "3.10.7"
  }
 },
 "nbformat": 4,
 "nbformat_minor": 2
}
